{
 "cells": [
  {
   "cell_type": "markdown",
   "id": "044c4d33",
   "metadata": {},
   "source": [
    "### 1. 计算所有地区的所有BEV的销量，并以此利用线性回归，多项式回归模型模型预测2023与2024年的销量。"
   ]
  },
  {
   "cell_type": "code",
   "execution_count": 1,
   "id": "7e7139f2",
   "metadata": {},
   "outputs": [
    {
     "name": "stdout",
     "output_type": "stream",
     "text": [
      "<class 'pandas.core.frame.DataFrame'>\n",
      "RangeIndex: 6739 entries, 0 to 6738\n",
      "Data columns (total 8 columns):\n",
      " #   Column      Non-Null Count  Dtype  \n",
      "---  ------      --------------  -----  \n",
      " 0   region      6739 non-null   object \n",
      " 1   category    6739 non-null   object \n",
      " 2   parameter   6739 non-null   object \n",
      " 3   mode        6739 non-null   object \n",
      " 4   powertrain  6739 non-null   object \n",
      " 5   year        6739 non-null   int64  \n",
      " 6   unit        6739 non-null   object \n",
      " 7   value       6739 non-null   float64\n",
      "dtypes: float64(1), int64(1), object(6)\n",
      "memory usage: 421.3+ KB\n"
     ]
    },
    {
     "data": {
      "text/plain": [
       "(None,\n",
       "       region    category       parameter  mode powertrain  year      unit  \\\n",
       " 0  Australia  Historical        EV stock  Cars        BEV  2011  Vehicles   \n",
       " 1  Australia  Historical  EV sales share  Cars         EV  2011   percent   \n",
       " 2  Australia  Historical  EV stock share  Cars         EV  2011   percent   \n",
       " 3  Australia  Historical        EV sales  Cars        BEV  2011  Vehicles   \n",
       " 4  Australia  Historical        EV sales  Cars        BEV  2012  Vehicles   \n",
       " \n",
       "        value  \n",
       " 0   49.00000  \n",
       " 1    0.00650  \n",
       " 2    0.00046  \n",
       " 3   49.00000  \n",
       " 4  170.00000  )"
      ]
     },
     "execution_count": 1,
     "metadata": {},
     "output_type": "execute_result"
    }
   ],
   "source": [
    "# 读取数据集\n",
    "import pandas as pd\n",
    "\n",
    "# 加载数据\n",
    "file_path = \"Global EV 2023.csv\"\n",
    "data = pd.read_csv(file_path)\n",
    "\n",
    "# 显示数据的基本信息\n",
    "data.info(), data.head()\n"
   ]
  },
  {
   "cell_type": "code",
   "execution_count": 2,
   "id": "f3e6c4ca",
   "metadata": {},
   "outputs": [
    {
     "data": {
      "text/plain": [
       "(       region    category parameter  mode powertrain  year      unit  value\n",
       " 3   Australia  Historical  EV sales  Cars        BEV  2011  Vehicles   49.0\n",
       " 4   Australia  Historical  EV sales  Cars        BEV  2012  Vehicles  170.0\n",
       " 15  Australia  Historical  EV sales  Cars        BEV  2013  Vehicles  190.0\n",
       " 16  Australia  Historical  EV sales  Cars        BEV  2014  Vehicles  370.0\n",
       " 27  Australia  Historical  EV sales  Cars        BEV  2015  Vehicles  760.0,\n",
       " (379, 8))"
      ]
     },
     "execution_count": 2,
     "metadata": {},
     "output_type": "execute_result"
    }
   ],
   "source": [
    "# 筛选数据：category='Historical', parameter='EV sales', mode='Cars', powertrain='BEV' 保证了数据集是电车销量\n",
    "ev_sales_bev = data[(data['category'] == 'Historical') &\n",
    "                    (data['parameter'] == 'EV sales') &\n",
    "                    (data['mode'] == 'Cars') &\n",
    "                    (data['powertrain'] == 'BEV')]\n",
    "\n",
    "# 筛选结果的基本信息\n",
    "ev_sales_bev.head(), ev_sales_bev.shape\n"
   ]
  },
  {
   "cell_type": "code",
   "execution_count": 3,
   "id": "f5c4f0a9",
   "metadata": {},
   "outputs": [
    {
     "data": {
      "text/plain": [
       "(       region    category parameter  mode powertrain  year      unit   value\n",
       " 15  Australia  Historical  EV sales  Cars        BEV  2013  Vehicles   190.0\n",
       " 16  Australia  Historical  EV sales  Cars        BEV  2014  Vehicles   370.0\n",
       " 27  Australia  Historical  EV sales  Cars        BEV  2015  Vehicles   760.0\n",
       " 28  Australia  Historical  EV sales  Cars        BEV  2016  Vehicles   670.0\n",
       " 35  Australia  Historical  EV sales  Cars        BEV  2017  Vehicles  1200.0,\n",
       " (309, 8))"
      ]
     },
     "execution_count": 3,
     "metadata": {},
     "output_type": "execute_result"
    }
   ],
   "source": [
    "# 筛选出所有国家2013-2022年的数据\n",
    "ev_sales_bev_2013_2022 = ev_sales_bev[(ev_sales_bev['year'] >= 2013) & (ev_sales_bev['year'] <= 2022)]\n",
    "\n",
    "# 显示数据结构\n",
    "ev_sales_bev_2013_2022.head(), ev_sales_bev_2013_2022.shape\n"
   ]
  },
  {
   "cell_type": "code",
   "execution_count": 4,
   "id": "9f6cefe3",
   "metadata": {
    "scrolled": true
   },
   "outputs": [
    {
     "data": {
      "text/plain": [
       "year\n",
       "2013     113855.0\n",
       "2014     194907.0\n",
       "2015     327092.0\n",
       "2016     464512.0\n",
       "2017     750220.0\n",
       "2018    1367350.0\n",
       "2019    1521510.0\n",
       "2020    1973252.0\n",
       "2021    4560890.0\n",
       "2022    7164980.0\n",
       "Name: value, dtype: float64"
      ]
     },
     "execution_count": 4,
     "metadata": {},
     "output_type": "execute_result"
    }
   ],
   "source": [
    "# 按年份对全球纯电动汽车销量数据求和\n",
    "# 土耳其2013年数据缺失，这里将土耳其2012的数据作为2013进行计算\n",
    "global_ev_sales_per_year = ev_sales_bev_2013_2022.groupby('year')['value'].sum()\n",
    "\n",
    "# 查看每年的全球电动车销量总和\n",
    "global_ev_sales_per_year\n"
   ]
  },
  {
   "cell_type": "markdown",
   "id": "80d0c75b",
   "metadata": {},
   "source": [
    "## Linear Regression"
   ]
  },
  {
   "cell_type": "code",
   "execution_count": 6,
   "id": "2d7c49d9",
   "metadata": {
    "collapsed": true
   },
   "outputs": [
    {
     "data": {
      "image/png": "[encoded data removed]",
      "text/plain": [
       "<Figure size 864x432 with 1 Axes>"
      ]
     },
     "metadata": {
      "needs_background": "light"
     },
     "output_type": "display_data"
    }
   ],
   "source": [
    "import matplotlib.pyplot as plt\n",
    "\n",
    "# 构建一个包括预测数据的完整年份和销量数据集\n",
    "years_extended = np.append(global_ev_sales_per_year.index, [2023, 2024])\n",
    "sales_extended = np.append(global_ev_sales_per_year.values, [predicted_sales_flat[0], predicted_sales_flat[1]])\n",
    "\n",
    "# 绘图\n",
    "plt.figure(figsize=(12, 6))\n",
    "plt.plot(years_extended[:-2], sales_extended[:-2], label='Actual Sales', marker='o', color='blue')\n",
    "plt.plot(years_extended[-3:], sales_extended[-3:], label='Predicted Sales', marker='o', linestyle='--', color='red')\n",
    "plt.title('Global Electric Vehicle Sales (2013-2024)')\n",
    "plt.xlabel('Year')\n",
    "plt.ylabel('Number of Vehicles Sold')\n",
    "plt.legend()\n",
    "plt.grid(True)\n",
    "plt.show()\n"
   ]
  },
  {
   "cell_type": "code",
   "execution_count": 5,
   "id": "a5b767ae",
   "metadata": {},
   "outputs": [
    {
     "data": {
      "text/plain": [
       "{2023: 5378554.466666698, 2024: 6021226.769696951}"
      ]
     },
     "execution_count": 5,
     "metadata": {},
     "output_type": "execute_result"
    }
   ],
   "source": [
    "import numpy as np\n",
    "from sklearn.linear_model import LinearRegression\n",
    "\n",
    "# 准备数据\n",
    "years = np.array(global_ev_sales_per_year.index).reshape(-1, 1)\n",
    "sales = np.array(global_ev_sales_per_year.values).reshape(-1, 1)\n",
    "\n",
    "# 创建并拟合线性回归模型\n",
    "model = LinearRegression()\n",
    "model.fit(years, sales)\n",
    "\n",
    "# 预测2023年和2024年的销量\n",
    "predict_years = np.array([2023, 2024]).reshape(-1, 1)\n",
    "predicted_sales = model.predict(predict_years)\n",
    "\n",
    "# 转换为更易读的格式\n",
    "predicted_sales_flat = predicted_sales.flatten()\n",
    "predicted_sales_dict = dict(zip(predict_years.flatten(), predicted_sales_flat))\n",
    "predicted_sales_dict\n"
   ]
  },
  {
   "cell_type": "code",
   "execution_count": 24,
   "id": "fd97f642",
   "metadata": {},
   "outputs": [
    {
     "name": "stdout",
     "output_type": "stream",
     "text": [
      "[5378554 6021226]\n"
     ]
    }
   ],
   "source": [
    "# 转换为整数并去除小数点\n",
    "predicted_sales_flat = predicted_sales_flat.astype(int)\n",
    "\n",
    "print(predicted_sales_flat)"
   ]
  },
  {
   "cell_type": "code",
   "execution_count": 7,
   "id": "03f7e47d",
   "metadata": {},
   "outputs": [
    {
     "name": "stdout",
     "output_type": "stream",
     "text": [
      "Years: [2013 2014 2015 2016 2017 2018 2019 2020 2021 2022]\n",
      "Sales: [ 113855.  194907.  327092.  464512.  750220. 1367350. 1521510. 1973252.\n",
      " 4560890. 7164980.]\n"
     ]
    }
   ],
   "source": [
    "# 将年份（索引）转换为二维数组\n",
    "years = np.array(global_ev_sales_per_year.index).reshape(-1, 1)\n",
    "\n",
    "# 将销量数据提取为一维数组\n",
    "sales = np.array(global_ev_sales_per_year.values)\n",
    "\n",
    "# 查看这些数据：\n",
    "print(\"Years:\", years.flatten())\n",
    "print(\"Sales:\", sales)\n"
   ]
  },
  {
   "cell_type": "markdown",
   "id": "a836a124",
   "metadata": {},
   "source": [
    "## Polynomial"
   ]
  },
  {
   "cell_type": "code",
   "execution_count": 8,
   "id": "79500ce6",
   "metadata": {},
   "outputs": [
    {
     "data": {
      "text/plain": [
       "{2023: 8416547.302368164, 2024: 10716306.605834961}"
      ]
     },
     "execution_count": 8,
     "metadata": {},
     "output_type": "execute_result"
    }
   ],
   "source": [
    "from sklearn.preprocessing import PolynomialFeatures\n",
    "from sklearn.pipeline import make_pipeline\n",
    "\n",
    "# 创建多项式回归模型，这里选择二次多项式\n",
    "degree = 2\n",
    "poly_model = make_pipeline(PolynomialFeatures(degree), LinearRegression())\n",
    "\n",
    "# 使用2013-2022年的数据训练模型\n",
    "poly_model.fit(years, sales)\n",
    "\n",
    "# 预测2023年和2024年的销量\n",
    "predicted_sales_poly = poly_model.predict(predict_years)\n",
    "\n",
    "# 转换为更易读的格式\n",
    "predicted_sales_poly_flat = predicted_sales_poly.flatten()\n",
    "predicted_sales_poly_dict = dict(zip(predict_years.flatten(), predicted_sales_poly_flat))\n",
    "predicted_sales_poly_dict\n"
   ]
  },
  {
   "cell_type": "code",
   "execution_count": 23,
   "id": "62bdb4e9",
   "metadata": {},
   "outputs": [
    {
     "name": "stdout",
     "output_type": "stream",
     "text": [
      "[ 8416547 10716306]\n"
     ]
    }
   ],
   "source": [
    "# 转换为整数并去除小数点\n",
    "predicted_sales_poly_flat = predicted_sales_poly_flat.astype(int)\n",
    "\n",
    "print(predicted_sales_poly_flat)"
   ]
  },
  {
   "cell_type": "markdown",
   "id": "8b520afc",
   "metadata": {},
   "source": [
    "## Poly3"
   ]
  },
  {
   "cell_type": "code",
   "execution_count": 9,
   "id": "49e62059",
   "metadata": {},
   "outputs": [
    {
     "data": {
      "text/plain": [
       "{2023: 10696134.78125, 2024: 15488005.78125}"
      ]
     },
     "execution_count": 9,
     "metadata": {},
     "output_type": "execute_result"
    }
   ],
   "source": [
    "from sklearn.preprocessing import PolynomialFeatures\n",
    "from sklearn.pipeline import make_pipeline\n",
    "\n",
    "# 创建多项式回归模型，这里选择3次多项式\n",
    "degree = 3\n",
    "poly3_model = make_pipeline(PolynomialFeatures(degree), LinearRegression())\n",
    "\n",
    "# 使用2013-2022年的数据训练模型\n",
    "poly3_model.fit(years, sales)\n",
    "\n",
    "# 预测2023年和2024年的销量\n",
    "predicted_sales_poly3 = poly3_model.predict(predict_years)\n",
    "\n",
    "# 转换为更易读的格式\n",
    "predicted_sales_poly3_flat = predicted_sales_poly3.flatten()\n",
    "predicted_sales_poly3_dict = dict(zip(predict_years.flatten(), predicted_sales_poly3_flat))\n",
    "predicted_sales_poly3_dict"
   ]
  },
  {
   "cell_type": "code",
   "execution_count": 21,
   "id": "f92cd4b8",
   "metadata": {},
   "outputs": [
    {
     "name": "stdout",
     "output_type": "stream",
     "text": [
      "[10696134 15488005]\n"
     ]
    }
   ],
   "source": [
    "# 转换为整数并去除小数点\n",
    "predicted_sales_poly3_flat = predicted_sales_poly3_flat.astype(int)\n",
    "\n",
    "print(predicted_sales_poly3_flat)\n"
   ]
  },
  {
   "cell_type": "code",
   "execution_count": 41,
   "id": "59ad618f",
   "metadata": {
    "scrolled": false
   },
   "outputs": [
    {
     "data": {
      "image/png": "[encoded data removed]",
      "text/plain": [
       "<Figure size 864x432 with 1 Axes>"
      ]
     },
     "metadata": {
      "needs_background": "light"
     },
     "output_type": "display_data"
    }
   ],
   "source": [
    "# 数据贮备\n",
    "years_plot = np.append(years.flatten(), [2023, 2024])\n",
    "actual_and_predicted_sales = np.append(sales, predicted_sales_flat)\n",
    "predicted_sales_poly_plot = np.append(sales, predicted_sales_poly_flat)\n",
    "predicted_sales_poly3_plot = np.append(sales, predicted_sales_poly3_flat)\n",
    "\n",
    "# 绘图\n",
    "plt.figure(figsize=(12, 6))\n",
    "plt.plot(years_plot[:-2], actual_and_predicted_sales[:-2], label='Actual Sales', marker='o', color='blue')\n",
    "plt.plot(years_plot[-3:], actual_and_predicted_sales[-3:], label='Linear Predicted Sales', marker='o', linestyle='--', color='green')\n",
    "plt.plot(years_plot[-3:], predicted_sales_poly_plot[-3:], label='Polynomial Predicted Sales', marker='o', linestyle='--', color='red')\n",
    "plt.plot(years_plot[-3:], predicted_sales_poly3_plot[-3:], label='Polynomial3 Predicted Sales', marker='o', linestyle='--', color='yellow')\n",
    "\n",
    "# 数据标签添加\n",
    "for i, txt in enumerate(sales):\n",
    "    plt.annotate(txt, (years_plot[i], sales[i]), textcoords=\"offset points\", xytext=(0,10), ha='center')\n",
    "for i, txt in enumerate(actual_and_predicted_sales[-2:]):\n",
    "    plt.annotate(txt, (years_plot[-2:][i], actual_and_predicted_sales[-2:][i]), textcoords=\"offset points\", xytext=(0,10), ha='center')\n",
    "for i, txt in enumerate(predicted_sales_poly_plot[-2:]):\n",
    "    plt.annotate(txt, (years_plot[-2:][i], predicted_sales_poly_plot[-2:][i]), textcoords=\"offset points\", xytext=(0,10), ha='left')\n",
    "for i, txt in enumerate(predicted_sales_poly3_plot[-2:]):\n",
    "    plt.annotate(txt, (years_plot[-2:][i], predicted_sales_poly3_plot[-2:][i]), textcoords=\"offset points\", xytext=(0,10), ha='center')\n",
    "\n",
    "plt.title('Global Electric Vehicle Sales with Predictions (2013-2024)')\n",
    "plt.xlabel('Year')\n",
    "plt.ylabel('Number of Vehicles Sold')\n",
    "plt.legend()\n",
    "plt.grid(True)\n",
    "plt.show()\n"
   ]
  },
  {
   "cell_type": "code",
   "execution_count": null,
   "id": "8dc23041",
   "metadata": {},
   "outputs": [],
   "source": [
    "actual_sales_data_2023 = 14280000"
   ]
  },
  {
   "cell_type": "markdown",
   "id": "3e81d576",
   "metadata": {},
   "source": [
    "### 2. 对所有国家的13-22年销量进行聚类分析，利用K-means将所有地区分为三个聚类(肘部图)"
   ]
  },
  {
   "cell_type": "code",
   "execution_count": 42,
   "id": "880cda38",
   "metadata": {},
   "outputs": [
    {
     "data": {
      "text/plain": [
       "region\n",
       "China             10614000.0\n",
       "USA                2349000.0\n",
       "Germany            1181300.0\n",
       "United Kingdom      667300.0\n",
       "France              637800.0\n",
       "Name: value, dtype: float64"
      ]
     },
     "execution_count": 42,
     "metadata": {},
     "output_type": "execute_result"
    }
   ],
   "source": [
    "# 计算每个地区/国家2013-2022年的总销量\n",
    "total_sales_per_region = ev_sales_bev_2013_2022.groupby('region')['value'].sum()\n",
    "\n",
    "# 查看每个地区/国家的总销量\n",
    "total_sales_per_region.sort_values(ascending=False).head()\n"
   ]
  },
  {
   "cell_type": "code",
   "execution_count": 43,
   "id": "d618675c",
   "metadata": {},
   "outputs": [
    {
     "name": "stderr",
     "output_type": "stream",
     "text": [
      "D:\\Anaconda\\lib\\site-packages\\sklearn\\cluster\\_kmeans.py:881: UserWarning: KMeans is known to have a memory leak on Windows with MKL, when there are less chunks than available threads. You can avoid it by setting the environment variable OMP_NUM_THREADS=1.\n",
      "  warnings.warn(\n"
     ]
    },
    {
     "data": {
      "image/png": "[encoded data removed]",
      "text/plain": [
       "<Figure size 720x432 with 1 Axes>"
      ]
     },
     "metadata": {
      "needs_background": "light"
     },
     "output_type": "display_data"
    }
   ],
   "source": [
    "# 使用肘部法则来确定最优的聚类数量\n",
    "# 计算不同聚类数目的总内平方和（SSE）\n",
    "from sklearn.cluster import KMeans\n",
    "sales_data = np.array(total_sales_per_region.values).reshape(-1, 1)\n",
    "\n",
    "\n",
    "sse = []\n",
    "for k in range(1, 11):  # 测试1到10个聚类\n",
    "    kmeans = KMeans(n_clusters=k, random_state=0).fit(sales_data)\n",
    "    sse.append(kmeans.inertia_)  # 每个模型的SSE\n",
    "\n",
    "# 绘制肘部图\n",
    "plt.figure(figsize=(10, 6))\n",
    "plt.plot(range(1, 11), sse, marker='o')\n",
    "plt.title('Elbow Method For Optimal k')\n",
    "plt.xlabel('Number of clusters')\n",
    "plt.ylabel('SSE')\n",
    "plt.grid(True)\n",
    "plt.show()\n"
   ]
  },
  {
   "cell_type": "code",
   "execution_count": 69,
   "id": "0cc75c6c",
   "metadata": {},
   "outputs": [
    {
     "data": {
      "text/html": [
       "<div>\n",
       "<style scoped>\n",
       "    .dataframe tbody tr th:only-of-type {\n",
       "        vertical-align: middle;\n",
       "    }\n",
       "\n",
       "    .dataframe tbody tr th {\n",
       "        vertical-align: top;\n",
       "    }\n",
       "\n",
       "    .dataframe thead th {\n",
       "        text-align: right;\n",
       "    }\n",
       "</style>\n",
       "<table border=\"1\" class=\"dataframe\">\n",
       "  <thead>\n",
       "    <tr style=\"text-align: right;\">\n",
       "      <th></th>\n",
       "      <th>Country</th>\n",
       "      <th>Total Sales</th>\n",
       "      <th>Cluster</th>\n",
       "    </tr>\n",
       "  </thead>\n",
       "  <tbody>\n",
       "    <tr>\n",
       "      <th>0</th>\n",
       "      <td>Australia</td>\n",
       "      <td>66490.0</td>\n",
       "      <td>0</td>\n",
       "    </tr>\n",
       "    <tr>\n",
       "      <th>28</th>\n",
       "      <td>Turkiye</td>\n",
       "      <td>11597.0</td>\n",
       "      <td>0</td>\n",
       "    </tr>\n",
       "    <tr>\n",
       "      <th>27</th>\n",
       "      <td>Switzerland</td>\n",
       "      <td>125400.0</td>\n",
       "      <td>0</td>\n",
       "    </tr>\n",
       "    <tr>\n",
       "      <th>26</th>\n",
       "      <td>Sweden</td>\n",
       "      <td>216030.0</td>\n",
       "      <td>0</td>\n",
       "    </tr>\n",
       "    <tr>\n",
       "      <th>25</th>\n",
       "      <td>Spain</td>\n",
       "      <td>100410.0</td>\n",
       "      <td>0</td>\n",
       "    </tr>\n",
       "    <tr>\n",
       "      <th>24</th>\n",
       "      <td>South Africa</td>\n",
       "      <td>1374.0</td>\n",
       "      <td>0</td>\n",
       "    </tr>\n",
       "    <tr>\n",
       "      <th>23</th>\n",
       "      <td>Portugal</td>\n",
       "      <td>53510.0</td>\n",
       "      <td>0</td>\n",
       "    </tr>\n",
       "    <tr>\n",
       "      <th>22</th>\n",
       "      <td>Poland</td>\n",
       "      <td>27811.0</td>\n",
       "      <td>0</td>\n",
       "    </tr>\n",
       "    <tr>\n",
       "      <th>21</th>\n",
       "      <td>Norway</td>\n",
       "      <td>553900.0</td>\n",
       "      <td>0</td>\n",
       "    </tr>\n",
       "    <tr>\n",
       "      <th>20</th>\n",
       "      <td>New Zealand</td>\n",
       "      <td>43940.0</td>\n",
       "      <td>0</td>\n",
       "    </tr>\n",
       "    <tr>\n",
       "      <th>19</th>\n",
       "      <td>Netherlands</td>\n",
       "      <td>318400.0</td>\n",
       "      <td>0</td>\n",
       "    </tr>\n",
       "    <tr>\n",
       "      <th>18</th>\n",
       "      <td>Mexico</td>\n",
       "      <td>10322.0</td>\n",
       "      <td>0</td>\n",
       "    </tr>\n",
       "    <tr>\n",
       "      <th>17</th>\n",
       "      <td>Korea</td>\n",
       "      <td>334700.0</td>\n",
       "      <td>0</td>\n",
       "    </tr>\n",
       "    <tr>\n",
       "      <th>16</th>\n",
       "      <td>Japan</td>\n",
       "      <td>220000.0</td>\n",
       "      <td>0</td>\n",
       "    </tr>\n",
       "    <tr>\n",
       "      <th>15</th>\n",
       "      <td>Italy</td>\n",
       "      <td>171760.0</td>\n",
       "      <td>0</td>\n",
       "    </tr>\n",
       "    <tr>\n",
       "      <th>13</th>\n",
       "      <td>India</td>\n",
       "      <td>68210.0</td>\n",
       "      <td>0</td>\n",
       "    </tr>\n",
       "    <tr>\n",
       "      <th>12</th>\n",
       "      <td>Iceland</td>\n",
       "      <td>17390.0</td>\n",
       "      <td>0</td>\n",
       "    </tr>\n",
       "    <tr>\n",
       "      <th>11</th>\n",
       "      <td>Greece</td>\n",
       "      <td>6126.0</td>\n",
       "      <td>0</td>\n",
       "    </tr>\n",
       "    <tr>\n",
       "      <th>9</th>\n",
       "      <td>France</td>\n",
       "      <td>637800.0</td>\n",
       "      <td>0</td>\n",
       "    </tr>\n",
       "    <tr>\n",
       "      <th>8</th>\n",
       "      <td>Finland</td>\n",
       "      <td>33070.0</td>\n",
       "      <td>0</td>\n",
       "    </tr>\n",
       "    <tr>\n",
       "      <th>7</th>\n",
       "      <td>Denmark</td>\n",
       "      <td>85410.0</td>\n",
       "      <td>0</td>\n",
       "    </tr>\n",
       "    <tr>\n",
       "      <th>5</th>\n",
       "      <td>Chile</td>\n",
       "      <td>1693.0</td>\n",
       "      <td>0</td>\n",
       "    </tr>\n",
       "    <tr>\n",
       "      <th>4</th>\n",
       "      <td>Canada</td>\n",
       "      <td>258700.0</td>\n",
       "      <td>0</td>\n",
       "    </tr>\n",
       "    <tr>\n",
       "      <th>3</th>\n",
       "      <td>Brazil</td>\n",
       "      <td>13091.0</td>\n",
       "      <td>0</td>\n",
       "    </tr>\n",
       "    <tr>\n",
       "      <th>2</th>\n",
       "      <td>Belgium</td>\n",
       "      <td>96400.0</td>\n",
       "      <td>0</td>\n",
       "    </tr>\n",
       "    <tr>\n",
       "      <th>1</th>\n",
       "      <td>Austria</td>\n",
       "      <td>112350.0</td>\n",
       "      <td>0</td>\n",
       "    </tr>\n",
       "    <tr>\n",
       "      <th>14</th>\n",
       "      <td>Israel</td>\n",
       "      <td>41084.0</td>\n",
       "      <td>0</td>\n",
       "    </tr>\n",
       "    <tr>\n",
       "      <th>30</th>\n",
       "      <td>United Kingdom</td>\n",
       "      <td>667300.0</td>\n",
       "      <td>0</td>\n",
       "    </tr>\n",
       "    <tr>\n",
       "      <th>6</th>\n",
       "      <td>China</td>\n",
       "      <td>10614000.0</td>\n",
       "      <td>1</td>\n",
       "    </tr>\n",
       "    <tr>\n",
       "      <th>29</th>\n",
       "      <td>USA</td>\n",
       "      <td>2349000.0</td>\n",
       "      <td>2</td>\n",
       "    </tr>\n",
       "    <tr>\n",
       "      <th>10</th>\n",
       "      <td>Germany</td>\n",
       "      <td>1181300.0</td>\n",
       "      <td>2</td>\n",
       "    </tr>\n",
       "  </tbody>\n",
       "</table>\n",
       "</div>"
      ],
      "text/plain": [
       "           Country  Total Sales  Cluster\n",
       "0        Australia      66490.0        0\n",
       "28         Turkiye      11597.0        0\n",
       "27     Switzerland     125400.0        0\n",
       "26          Sweden     216030.0        0\n",
       "25           Spain     100410.0        0\n",
       "24    South Africa       1374.0        0\n",
       "23        Portugal      53510.0        0\n",
       "22          Poland      27811.0        0\n",
       "21          Norway     553900.0        0\n",
       "20     New Zealand      43940.0        0\n",
       "19     Netherlands     318400.0        0\n",
       "18          Mexico      10322.0        0\n",
       "17           Korea     334700.0        0\n",
       "16           Japan     220000.0        0\n",
       "15           Italy     171760.0        0\n",
       "13           India      68210.0        0\n",
       "12         Iceland      17390.0        0\n",
       "11          Greece       6126.0        0\n",
       "9           France     637800.0        0\n",
       "8          Finland      33070.0        0\n",
       "7          Denmark      85410.0        0\n",
       "5            Chile       1693.0        0\n",
       "4           Canada     258700.0        0\n",
       "3           Brazil      13091.0        0\n",
       "2          Belgium      96400.0        0\n",
       "1          Austria     112350.0        0\n",
       "14          Israel      41084.0        0\n",
       "30  United Kingdom     667300.0        0\n",
       "6            China   10614000.0        1\n",
       "29             USA    2349000.0        2\n",
       "10         Germany    1181300.0        2"
      ]
     },
     "execution_count": 69,
     "metadata": {},
     "output_type": "execute_result"
    }
   ],
   "source": [
    "from sklearn.cluster import KMeans\n",
    "import numpy as np\n",
    "\n",
    "# 准备数据，将销量数据转换为适合进行K-means聚类的格式（二维数组）\n",
    "sales_data = np.array(total_sales_per_region.values).reshape(-1, 1)\n",
    "\n",
    "# 使用KMeans进行聚类分析，这里假定我们分为3个类，在之前的肘部图里可以发现斜率在3时下降变缓\n",
    "kmeans = KMeans(n_clusters=3, random_state=0).fit(sales_data)\n",
    "\n",
    "# 获取聚类结果\n",
    "clusters = kmeans.labels_\n",
    "\n",
    "# 将聚类结果与国家名称结合\n",
    "clustered_data = pd.DataFrame({\n",
    "    'Country': total_sales_per_region.index,\n",
    "    'Total Sales': total_sales_per_region.values,\n",
    "    'Cluster': clusters\n",
    "})\n",
    "\n",
    "# 查看聚类结果\n",
    "clustered_data.sort_values('Cluster')\n"
   ]
  },
  {
   "cell_type": "code",
   "execution_count": 68,
   "id": "a130c511",
   "metadata": {
    "scrolled": false
   },
   "outputs": [
    {
     "data": {
      "image/png": "[encoded data removed]",
      "text/plain": [
       "<Figure size 720x432 with 1 Axes>"
      ]
     },
     "metadata": {
      "needs_background": "light"
     },
     "output_type": "display_data"
    }
   ],
   "source": [
    "# 绘制散点图\n",
    "plt.figure(figsize=(10, 6))\n",
    "colors = ['blue', 'green', 'red', 'purple']  # 不同聚类的颜色\n",
    "jitter_strength = 0.1  # 抖动强度，方便更清晰的看图\n",
    "\n",
    "for i in range(3):\n",
    "    # 筛选属于当前聚类的国家\n",
    "    cluster_sales = clustered_data[clustered_data['Cluster'] == i]['Total Sales']\n",
    "    cluster_data = clustered_data[clustered_data['Cluster'] == i]\n",
    "    cluster_countries = cluster_data['Country']\n",
    "    # 添加抖动\n",
    "    jitter = np.random.normal(0, jitter_strength, size=cluster_sales.size)\n",
    "    plt.scatter(x=np.repeat(i, cluster_sales.size) + jitter, y=cluster_sales, alpha=0.6, s=50, color=colors[i], label=f'Cluster {i}')\n",
    "    \n",
    "    x_coords = np.repeat(i, cluster_sales.size) + jitter\n",
    "    \n",
    "    # 为 Cluster 2 和 Cluster 1 添加数据标签\n",
    "    if i in [1,2]:\n",
    "        for j, txt in enumerate(cluster_sales):\n",
    "            country = cluster_countries.iloc[j]\n",
    "            label_text = f\"{txt}\\n{country}\" if i in [1,2] else str(txt)\n",
    "            plt.annotate(label_text, (x_coords[j], cluster_sales.iloc[j]), textcoords=\"offset points\", xytext=(0,10), ha='center',va = 'top')\n",
    "\n",
    "    # 为 Cluster 0 显示总数\n",
    "    if i == 0:\n",
    "        total_sales_cluster0 = len(cluster_countries)\n",
    "        plt.text(i, cluster_sales.max(), f'Total regions: {total_sales_cluster0}', fontsize=12, ha='center',va = 'bottom')\n",
    "\n",
    "plt.title('Region Sales Data Clustering Visualization')\n",
    "plt.xlabel('Cluster Number')\n",
    "plt.ylabel('Total Sales')\n",
    "plt.xticks([0, 1, 2])  # 设置x轴刻度\n",
    "plt.legend()\n",
    "plt.grid(True)\n",
    "plt.show()\n"
   ]
  }
 ],
 "metadata": {
  "kernelspec": {
   "display_name": "Python 3",
   "language": "python",
   "name": "python3"
  },
  "language_info": {
   "codemirror_mode": {
    "name": "ipython",
    "version": 3
   },
   "file_extension": ".py",
   "mimetype": "text/x-python",
   "name": "python",
   "nbconvert_exporter": "python",
   "pygments_lexer": "ipython3",
   "version": "3.8.8"
  }
 },
 "nbformat": 4,
 "nbformat_minor": 5
}
